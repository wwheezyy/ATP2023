{
 "cells": [
  {
   "cell_type": "code",
   "execution_count": null,
   "metadata": {},
   "outputs": [],
   "source": [
    "#TPC6\n",
    "\n",
    "import csv\n",
    "\n",
    "ficheiro = 'diabetes_prediction_dataset.csv'\n",
    "info=[]\n",
    "def leficheiro(ficheiro):\n",
    "    f = open(str(ficheiro),mode='r')\n",
    "    for linha in f:\n",
    "        doente = linha.split(\",\")\n",
    "        info.append(doente)\n",
    "    return info\n",
    "\n",
    "def distribuicaosexo():\n",
    "    leficheiro()\n",
    "    contadorM = 0\n",
    "    contadorF = 0\n",
    "    for t in info:\n",
    "        sexo, idade, tensao, coracao, fumador, glucose, diabetes, temdoencas = t\n",
    "        if temdoencas == 1 and sexo == \"M\":\n",
    "            contadorM = contadorM + 1\n",
    "        elif temdoencas == 1 and sexo == \"F\":\n",
    "             contadorF = contadorF + 1\n",
    "    print(\"Contagem Masculina:\", contadorM)\n",
    "    print(\"Contagem Feminina:\", contadorF)\n",
    "\n",
    "def distribuicaoidade():\n",
    "    leficheiro()\n",
    "    escaloes = [[0, 10], [11, 24], [25, 29], [30, 34], [35,39], [40, 44], [45, 49], [50, 54], [55, 59], [60, 64], [65, 69], [70, 74], [75, 79], [80, 84], [84, 89]]\n",
    "    lista = []\n",
    "    for t in info:\n",
    "        sexo, idade, tensao, coracao, fumador, glucose, diabetes, temdoencas = t\n",
    "        for escalao in escaloes: \n",
    "            if temdoencas == 1 and idade >= escalao[0] and idade <= escalao[1]:\n",
    "                lista.append(escalao)\n",
    "    for escalao in escaloes:\n",
    "        print(\"No escalão\", escalao, \"encontram-se:\", lista.count(escalao), \"pessoas.\")\n",
    "\n",
    "def distribuicaoglucose():\n",
    "    leficheiro()\n",
    "    lista = []\n",
    "    nivelglucose = [[0,100], [101,110], [111,120], [121,130], [131,140], [141,150], [151,160], [161,170], [171,180], [181,190], [191, 200], [201,210], [211,220], [221,230], [231,240], [241,250], [251, 260], [261,270], [271,280], [281,290], [291, 300], [301,310], [311,320], [321, 330], [331, 340], [341, 350]]\n",
    "    for t in info:\n",
    "        sexo, idade, tensao, coracao, fumador, glucose, diabetes, temdoencas = t\n",
    "        for nivel in nivelglucose: \n",
    "            if temdoencas == 1 and glucose >= nivel[0] and glucose <= nivel[1]:\n",
    "                lista.append(nivel)\n",
    "    for nivel in nivelglucose:\n",
    "        print(\"Nivel\", nivel, \"tem:\", lista.count(nivel), \"pessoas\")\n",
    "        \n",
    "def menu():\n",
    "    opcao = int(input(\"Introduza um número entre 1 e 4: \"))\n",
    "    if opcao == 1:\n",
    "        leficheiro()\n",
    "    elif opcao == 2:\n",
    "        distribuicaosexo()\n",
    "    elif opcao == 3:\n",
    "            distribuicaoidade()\n",
    "    elif opcao == 4:\n",
    "            distribuicaoglucose()\n",
    "menu()\n"
   ]
  }
 ],
 "metadata": {
  "kernelspec": {
   "display_name": "Python 3.10.7 64-bit",
   "language": "python",
   "name": "python3"
  },
  "language_info": {
   "name": "python",
   "version": "3.10.7"
  },
  "orig_nbformat": 4,
  "vscode": {
   "interpreter": {
    "hash": "e08e3c6b0fe4d0db8009d34195d0442f421050c1c3d1b1bd717f790ded3c9e95"
   }
  }
 },
 "nbformat": 4,
 "nbformat_minor": 2
}

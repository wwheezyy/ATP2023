{
 "cells": [
  {
   "cell_type": "code",
   "execution_count": 5,
   "metadata": {},
   "outputs": [
    {
     "ename": "SyntaxError",
     "evalue": "incomplete input (551301143.py, line 66)",
     "output_type": "error",
     "traceback": [
      "\u001b[1;36m  Cell \u001b[1;32mIn [5], line 66\u001b[1;36m\u001b[0m\n\u001b[1;33m    if N==9:\u001b[0m\n\u001b[1;37m            ^\u001b[0m\n\u001b[1;31mSyntaxError\u001b[0m\u001b[1;31m:\u001b[0m incomplete input\n"
     ]
    }
   ],
   "source": [
    "#TPC4\n",
    "\n",
    "from random import randint\n",
    "menu= (\"Menu\\nEscolha a opção:\\n(1) Criar Lista\\n(2) Ler Lista\\n(3) Soma\\n(4) Média\\n(5) Maior\\n(6) Menor\\n(7) Ordenar por Ordem Crescente\\n(8) Ordenar por Ordem Decrescente\\n(9) Procurar um Elemento\\n(10) Sair\")\n",
    "lista=[]\n",
    "print(menu)\n",
    "programa=True\n",
    "while programa == True:\n",
    "    N=int(input(\"Escolha uma opção:\"))\n",
    "    if N==0:\n",
    "        print(lista)\n",
    "        print(\"Obrigada! Até breve.\")\n",
    "        programa=False\n",
    "    if N==1:\n",
    "        lista.clear()\n",
    "        n=int(input(\"Escolha o tamanho da lista:\"))\n",
    "        while n>0:\n",
    "            lista.append(randint(1,100))\n",
    "            n=n-1\n",
    "        print(lista)\n",
    "    if N==2:\n",
    "        lista.clear()\n",
    "        tamanho=int(input(\"Escolha o tamanho da lista:\"))\n",
    "        while tamanho>0:\n",
    "            x=int(input(\"Introduza um número:\"))\n",
    "            lista.append(x)\n",
    "            tamanho=tamanho-1\n",
    "        print(lista)\n",
    "    if N==3:\n",
    "        soma=0\n",
    "        for i in lista:\n",
    "            soma = soma + 1\n",
    "        print(soma)\n",
    "    if N==4:\n",
    "        soma1=0\n",
    "        divisor=len(lista)  \n",
    "        for i in lista:\n",
    "            soma1=soma1+1\n",
    "        print(soma1/divisor)\n",
    "    if N==5:\n",
    "        maior=lista[0]\n",
    "        for i in lista:\n",
    "            if i > maior:\n",
    "                maior=i\n",
    "        print(maior)\n",
    "    if N==6:\n",
    "        menor=lista[0]\n",
    "        for i in lista:\n",
    "            if i < menor:\n",
    "                menor=i\n",
    "        print(menor)\n",
    "    if N==7:\n",
    "        listacopiada=lista.copy()\n",
    "        listacopiada.sort()\n",
    "        if lista==listacopiada:\n",
    "            print(\"Sim\")\n",
    "        else:\n",
    "            print(\"Não\")\n",
    "    if N==8:\n",
    "        for i in lista:\n",
    "            listacopiada.sort(reverse=True)\n",
    "        if lista==listacopiada:\n",
    "            print(\"Sim\")\n",
    "        else:\n",
    "            print(\"Não\")\n",
    "    if N==9:\n",
    "        n=int(input(\"Introduza um número para procurar:\"))\n",
    "        if n in lista:\n",
    "            print(\"A posição do número é\",lista.index(n))\n",
    "        else:\n",
    "            print(\"O número não está na lista.\")\n"
   ]
  },
  {
   "cell_type": "code",
   "execution_count": null,
   "metadata": {},
   "outputs": [],
   "source": []
  }
 ],
 "metadata": {
  "kernelspec": {
   "display_name": "Python 3.10.7 64-bit",
   "language": "python",
   "name": "python3"
  },
  "language_info": {
   "codemirror_mode": {
    "name": "ipython",
    "version": 3
   },
   "file_extension": ".py",
   "mimetype": "text/x-python",
   "name": "python",
   "nbconvert_exporter": "python",
   "pygments_lexer": "ipython3",
   "version": "3.10.7"
  },
  "orig_nbformat": 4,
  "vscode": {
   "interpreter": {
    "hash": "e08e3c6b0fe4d0db8009d34195d0442f421050c1c3d1b1bd717f790ded3c9e95"
   }
  }
 },
 "nbformat": 4,
 "nbformat_minor": 2
}

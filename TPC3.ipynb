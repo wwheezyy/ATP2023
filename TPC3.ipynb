{
 "cells": [
  {
   "cell_type": "code",
   "execution_count": 8,
   "metadata": {},
   "outputs": [
    {
     "name": "stdout",
     "output_type": "stream",
     "text": [
      "O número em que pensei é maior.\n",
      "O número em que pensei é menor.\n",
      "O número em que pensei é menor.\n",
      "O número em que pensei é maior.\n",
      "O número em que pensei é maior.\n",
      "Acertou! O número de tentativas utilizadas foi 5\n"
     ]
    }
   ],
   "source": [
    "Jogador = int(input(\"Bem vindo! Escolha o modo de jogo: para adivinhar o número escreva 1, para escolher escreva 2\"))\n",
    "import random\n",
    "if (Jogador == 1):\n",
    "    N = (random.randrange (0,100))\n",
    "    R = int(input(\"Qual foi o número em que pensei?\"))\n",
    "    T = 0\n",
    "    while (N != R):\n",
    "        if(N<R):\n",
    "            print(\"O número em que pensei é menor.\")\n",
    "        if(N>R):\n",
    "            print(\"O número em que pensei é maior.\")\n",
    "        R = int(input(\"Qual foi o número em que pensei?\"))\n",
    "        T = T + 1\n",
    "    print (\"Acertou! O número de tentativas utilizadas foi\",T)\n",
    "else:\n",
    "    N = (random.randrange (0,100))\n",
    "    R = int(input(N))\n",
    "    #0 é correto, 1 é maio, 2 é maior\n",
    "    Min = 0\n",
    "    Max = 100\n",
    "    T = 0\n",
    "    while ( R != 0):\n",
    "        if (R == 1):\n",
    "            Max = N\n",
    "            maximo = int((Min + ((Max - Min)/2)))\n",
    "            N = maximo\n",
    "            print(\"O número em que pensou foi\",N)\n",
    "        if (R == 2):\n",
    "            Min = N\n",
    "            minimo = int((Max -((Max - Min)/2)))\n",
    "            N = minimo\n",
    "            print(\"O número em que pensou foi\",N)\n",
    "        R = int(input(\"Está certo?\"))\n",
    "        T = T + 1\n",
    "    print(\"O meu número de tentativas foi\",T)\n",
    "\n",
    "\n",
    "\n"
   ]
  }
 ],
 "metadata": {
  "kernelspec": {
   "display_name": "Python 3.10.7 64-bit",
   "language": "python",
   "name": "python3"
  },
  "language_info": {
   "codemirror_mode": {
    "name": "ipython",
    "version": 3
   },
   "file_extension": ".py",
   "mimetype": "text/x-python",
   "name": "python",
   "nbconvert_exporter": "python",
   "pygments_lexer": "ipython3",
   "version": "3.10.7"
  },
  "orig_nbformat": 4,
  "vscode": {
   "interpreter": {
    "hash": "e08e3c6b0fe4d0db8009d34195d0442f421050c1c3d1b1bd717f790ded3c9e95"
   }
  }
 },
 "nbformat": 4,
 "nbformat_minor": 2
}
